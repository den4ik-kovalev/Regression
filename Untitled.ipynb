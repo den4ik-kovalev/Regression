{
 "cells": [
  {
   "cell_type": "code",
   "execution_count": 89,
   "metadata": {},
   "outputs": [],
   "source": [
    "import copy\n",
    "import math\n",
    " \n",
    "class Matrix:\n",
    " \n",
    "    def __init__(self, arr):\n",
    "        if (type(arr[0]) == int)or(type(arr[0]) == float):\n",
    "            arr = [arr]\n",
    "        self.arr = arr\n",
    "        self.size = (len(arr),len(arr[0]))\n",
    "\n",
    "    def nummatr(m, n, number):\n",
    "        arr = []\n",
    "        for i in range(m):\n",
    "            arr.append([])\n",
    "            for j in range(n):\n",
    "                arr[i].append(number)\n",
    "        return Matrix(arr)\n",
    "    \n",
    "     \n",
    "    def minor(self, i, j):\n",
    "        M = copy.deepcopy(self.arr)\n",
    "        del M[i]\n",
    "        for i in range(self.size[1] - 1):\n",
    "            del M[i][j]\n",
    "        return Matrix(M)\n",
    "    \n",
    "    def det(self):\n",
    "        m = self.size[0]\n",
    "        n = self.size[1]\n",
    "        A = self.arr\n",
    "        if m != n:\n",
    "            return None\n",
    "        if n == 1:\n",
    "            return A[0][0]\n",
    "        \n",
    "        signum = 1\n",
    "        determinant = 0\n",
    "        for j in range(n):\n",
    "            determinant += A[0][j] * signum * Matrix.det(Matrix.minor(self, 0, j))\n",
    "            signum *= -1\n",
    "        return determinant\n",
    "    \n",
    "    def inv(self):\n",
    "        A = self.arr\n",
    "        m = self.size[0]\n",
    "        n = self.size[1]\n",
    "        result = []\n",
    "        for i in range(m):\n",
    "            row = []\n",
    "            for j in range(m):\n",
    "                row = row + [0]\n",
    "            result.append(row)\n",
    "\n",
    "        for i in range(m):\n",
    "            for j in range(m):\n",
    "                tmp = self.minor(i,j)\n",
    "                if (i +j) % 2 == 1:\n",
    "                    result[i][j] = -1 * Matrix.det(tmp) / Matrix.det(self)\n",
    "                else:\n",
    "                    result[i][j] = 1 * Matrix.det(tmp) / Matrix.det(self)\n",
    "        return Matrix(result)\n",
    "    \n",
    "    def T(self):\n",
    "        A = self.arr\n",
    "        res = []\n",
    "        n = self.size[0]\n",
    "        m = self.size[1]\n",
    "        for j in range(m):\n",
    "            tmp=[]\n",
    "            for i in range(n):\n",
    "                tmp=tmp+[A[i][j]]\n",
    "            res = res+[tmp]\n",
    "        return Matrix(res)\n",
    "    \n",
    "    def mult(A,B):\n",
    "        s=0     \n",
    "        t=[]    \n",
    "        m3=[] \n",
    "        m1 = A.arr\n",
    "        m2 = B.arr\n",
    "        if B.size[0] != A.size[1]:\n",
    "            print(\"Матрицы не могут быть перемножены\")        \n",
    "        else:\n",
    "            m = A.size[0]\n",
    "            n = A.size[1]\n",
    "            k = B.size[1]\n",
    "            for z in range(m):\n",
    "                for j in range(k):\n",
    "                    for i in range(n):\n",
    "                        s=s+m1[z][i]*m2[i][j]\n",
    "                    t.append(s)\n",
    "                    s=0\n",
    "                m3.append(t)\n",
    "                t=[]           \n",
    "        return Matrix(m3)\n",
    "    \n",
    "    def subtr(A,B): \n",
    "        r=A.size[0]\n",
    "        c=A.size[1]\n",
    "        m1 = A.arr\n",
    "        m2 = B.arr\n",
    "\n",
    "        result = copy.deepcopy(m1)\n",
    "        for i in range(r):\n",
    "            for j in range(c):\n",
    "                result[i][j] -= m2[i][j]\n",
    "        return Matrix(result)\n",
    "    \n",
    "    def mean(self):\n",
    "        A = self.arr\n",
    "        res = 0\n",
    "        for i in range(self.size[0]):\n",
    "            for j in range(self.size[1]):\n",
    "                res += A[i][j]\n",
    "        res /= (self.size[0]*self.size[1])\n",
    "        return res\n",
    "    \n",
    "    def multnum(A,x):\n",
    "        res = copy.deepcopy(A.arr)\n",
    "        for i in range(A.size[0]):\n",
    "            for j in range(A.size[1]):\n",
    "                res[i][j] *= x\n",
    "                \n",
    "        return Matrix(res)\n",
    "    \n",
    "    def multelem(A,B):\n",
    "        res = copy.deepcopy(A.arr)\n",
    "        for i in range(A.size[0]):\n",
    "            for j in range(A.size[1]):\n",
    "                res[i][j] *= B.arr[i][j]\n",
    "                \n",
    "        return Matrix(res)\n",
    "        \n",
    "                \n",
    "            "
   ]
  },
  {
   "cell_type": "code",
   "execution_count": 90,
   "metadata": {},
   "outputs": [
    {
     "data": {
      "text/plain": [
       "[[0.48758769347686337,\n",
       "  0.6281662310417069,\n",
       "  0.8731142033301261,\n",
       "  0.010456461999144073],\n",
       " [0.06715283236761094,\n",
       "  0.06702869499859088,\n",
       "  0.25713695618858257,\n",
       "  0.254232096726303],\n",
       " [0.898262012119954,\n",
       "  0.01798760556430712,\n",
       "  0.01801391733691715,\n",
       "  0.05775301921917031],\n",
       " [0.9490043229797037,\n",
       "  0.37800226458552144,\n",
       "  0.7893578349251164,\n",
       "  0.13628987732225906],\n",
       " [0.18279702516524554,\n",
       "  0.4929948564670854,\n",
       "  0.6684977988935759,\n",
       "  0.46348901817384325],\n",
       " [0.6750295286144676,\n",
       "  0.47363294605012374,\n",
       "  0.8450434978136068,\n",
       "  0.13252215038075366],\n",
       " [0.4952481184402183,\n",
       "  0.48592466412326507,\n",
       "  0.19267940867327882,\n",
       "  0.14091919792852903],\n",
       " [0.36786778911768603,\n",
       "  0.6069417485183157,\n",
       "  0.2824927441502587,\n",
       "  0.1101986274086506],\n",
       " [0.8502773235169087,\n",
       "  0.3186033924420587,\n",
       "  0.1937146181212731,\n",
       "  0.016798604249994242],\n",
       " [0.48368468511834506,\n",
       "  0.2897313267641668,\n",
       "  0.38773533098198565,\n",
       "  0.9125925870788474]]"
      ]
     },
     "execution_count": 90,
     "metadata": {},
     "output_type": "execute_result"
    }
   ],
   "source": [
    "import numpy as np\n",
    "nrows = 10\n",
    "ncols = 4\n",
    "a = np.random.sample((nrows,ncols))\n",
    "data = a.tolist()\n",
    "\n",
    "data"
   ]
  },
  {
   "cell_type": "code",
   "execution_count": 91,
   "metadata": {},
   "outputs": [],
   "source": [
    "yarr = []\n",
    "for i in range(nrows):\n",
    "    yarr = yarr + [[data[i][0]]]\n",
    "\n",
    "Xarr = copy.deepcopy(data)\n",
    "for i in range(nrows):\n",
    "    Xarr[i][0] = 1"
   ]
  },
  {
   "cell_type": "code",
   "execution_count": 92,
   "metadata": {},
   "outputs": [
    {
     "data": {
      "text/plain": [
       "[[0.7344194257924361],\n",
       " [-0.43025405478040407],\n",
       " [0.1627697565205342],\n",
       " [-0.44902474937214354]]"
      ]
     },
     "execution_count": 92,
     "metadata": {},
     "output_type": "execute_result"
    }
   ],
   "source": [
    "y = Matrix(yarr)\n",
    "X = Matrix(Xarr)\n",
    "\n",
    "w = Matrix.mult(X.T(),X)\n",
    "w = w.inv()\n",
    "w = Matrix.mult(w, X.T())\n",
    "w = Matrix.mult(w,y)\n",
    "\n",
    "u = Matrix.subtr(y,(Matrix.mult(X,w)))\n",
    "RSS = Matrix.mult(u.T(),u)\n",
    "RSS = RSS.arr[0][0]\n",
    "MSE = RSS/nrows\n",
    "\n",
    "y_mean = Matrix.nummatr(y.size[0],y.size[1],y.mean())\n",
    "yy = Matrix.subtr(y,y_mean)\n",
    "ESS = Matrix.mult(yy.T(),yy)\n",
    "ESS = ESS.arr[0][0]\n",
    "\n",
    "\n",
    "R_square = ESS/(ESS+RSS)\n",
    "R_square\n",
    "\n",
    "w.arr"
   ]
  },
  {
   "cell_type": "code",
   "execution_count": 93,
   "metadata": {},
   "outputs": [],
   "source": [
    "from random import randint\n",
    "\n",
    "def MSE(y,yy):\n",
    "    u = Matrix.subtr(y,yy)\n",
    "    RSS = Matrix.mult(u.T(),u)\n",
    "    RSS = RSS.arr[0][0]\n",
    "    return RSS/nrows\n",
    "    \n",
    "\n",
    "class Linear:\n",
    "    \n",
    "    def linear_prediction(x,w):\n",
    "        pred = 0\n",
    "        for i in range(x.size[1]):\n",
    "            pred += x.arr[0][i] * w.arr[i][0]\n",
    "            \n",
    "        return pred\n",
    "    \n",
    "    def grad(x,y,w,ind,N):\n",
    "        grad = []\n",
    "        y_pred = Linear.linear_prediction(x,w)\n",
    "        diff = (y_pred - y.arr[ind][0])\n",
    "        for i in range(w.size[0]):\n",
    "            grad.append([2.0/N*x.arr[0][i]*diff])\n",
    "        return Matrix(grad)\n",
    "    \n",
    "    def stochastic_gradient_step(X, y, w, train_ind, eta=0.01):\n",
    "        N = X.size[0]                  \n",
    "        x = Matrix(X.arr[train_ind])                 \n",
    "        grad = Linear.grad(x,y,w,train_ind,N)\n",
    "        \n",
    "        return Matrix.subtr(w,Matrix.multnum(grad,eta))\n",
    "    \n",
    "    \n",
    "    def sgd(X,y,w_init,eta=0.01,max_iter=1000,min_weight_dist=1e-8):\n",
    "        \n",
    "        weight_dist = 10e777\n",
    "        w = w_init\n",
    "        errors = []\n",
    "        \n",
    "        for i in range(max_iter):\n",
    "            random_ind = randint(0,X.size[0]-1)\n",
    "            new_w = Linear.stochastic_gradient_step(X, y, w, random_ind, eta)\n",
    "            \n",
    "            yyarr = []\n",
    "            for j in range(X.size[0]):\n",
    "                yyarr.append([Linear.linear_prediction(Matrix(X.arr[j]),new_w)])\n",
    "            error = MSE(y, Matrix(yyarr))\n",
    "            errors.append(error)\n",
    "            \n",
    "            w = new_w\n",
    "            \n",
    "        return w,errors   "
   ]
  },
  {
   "cell_type": "code",
   "execution_count": 94,
   "metadata": {},
   "outputs": [
    {
     "data": {
      "text/plain": [
       "[[0.057834877733847455],\n",
       " [0.5508161648630207],\n",
       " [0.43444021746078876],\n",
       " [0.6420345172619962]]"
      ]
     },
     "execution_count": 94,
     "metadata": {},
     "output_type": "execute_result"
    }
   ],
   "source": [
    "w_init = Matrix([[1],[1],[1],[1]])\n",
    "sgd_weights, sgd_errors = Linear.sgd(X, y, w_init)      \n",
    "\n",
    "sgd_weights.arr"
   ]
  },
  {
   "cell_type": "code",
   "execution_count": 95,
   "metadata": {},
   "outputs": [
    {
     "data": {
      "text/plain": [
       "[<matplotlib.lines.Line2D at 0xd49cff0>]"
      ]
     },
     "execution_count": 95,
     "metadata": {},
     "output_type": "execute_result"
    },
    {
     "data": {
      "image/png": "[encoded data removed]",
      "text/plain": [
       "<Figure size 432x288 with 1 Axes>"
      ]
     },
     "metadata": {
      "needs_background": "light"
     },
     "output_type": "display_data"
    }
   ],
   "source": [
    "import matplotlib.pyplot as plt\n",
    "plt.plot(range(len(sgd_errors)), sgd_errors)"
   ]
  },
  {
   "cell_type": "code",
   "execution_count": 96,
   "metadata": {},
   "outputs": [],
   "source": [
    "import math\n",
    "\n",
    "def adagrad_step(X, y, w, train_ind, eta_init, G):\n",
    "    \n",
    "    N = X.size[0]                  \n",
    "    x = Matrix(X.arr[train_ind])                 \n",
    "    grad = Linear.grad(x,y,w,train_ind,N)\n",
    "    etaarr = []\n",
    "    for i in range(len(G)):\n",
    "        etaarr.append(eta_init/math.sqrt(G[i]+1e-4))\n",
    "    eta = Matrix(etaarr)\n",
    "    eta = eta.T()\n",
    "    \n",
    "    for i in range(len(G)):\n",
    "        G[i] += grad.arr[i][0]**2    \n",
    "\n",
    "    return Matrix.subtr(w,Matrix.multelem(grad,eta)), G\n",
    "    \n",
    "    \n",
    "def adagrad(X,y,w_init,eta_init=0.01,max_iter=1000):\n",
    "    \n",
    "    weight_dist = 10e777\n",
    "    w = w_init\n",
    "    errors = []\n",
    "\n",
    "    G = []\n",
    "    for i in range(w.size[0]):\n",
    "        G.append(0)\n",
    "    \n",
    "    for i in range(max_iter):\n",
    "        \n",
    "        random_ind = randint(0,X.size[0]-1)\n",
    "        (new_w,new_G) = adagrad_step(X, y, w, random_ind, eta_init, G)\n",
    "\n",
    "        yyarr = []\n",
    "        for j in range(X.size[0]):\n",
    "            yyarr.append([Linear.linear_prediction(Matrix(X.arr[j]),new_w)])\n",
    "        error = MSE(y, Matrix(yyarr))\n",
    "        errors.append(error)\n",
    "\n",
    "        w = new_w\n",
    "        G = new_G\n",
    "    return w,errors  \n",
    "    "
   ]
  },
  {
   "cell_type": "code",
   "execution_count": 97,
   "metadata": {},
   "outputs": [
    {
     "data": {
      "text/plain": [
       "[[0.33155131749148553],\n",
       " [0.47799722067308686],\n",
       " [0.5380559942017632],\n",
       " [0.6148600334526766]]"
      ]
     },
     "execution_count": 97,
     "metadata": {},
     "output_type": "execute_result"
    }
   ],
   "source": [
    "w_init = Matrix([[1],[1],[1],[1]])\n",
    "adagrad_weights, adagrad_errors = adagrad(X, y, w_init)      \n",
    "\n",
    "adagrad_weights.arr"
   ]
  },
  {
   "cell_type": "code",
   "execution_count": 98,
   "metadata": {},
   "outputs": [
    {
     "data": {
      "text/plain": [
       "[<matplotlib.lines.Line2D at 0xd4d2350>]"
      ]
     },
     "execution_count": 98,
     "metadata": {},
     "output_type": "execute_result"
    },
    {
     "data": {
      "image/png": "[encoded data removed]",
      "text/plain": [
       "<Figure size 432x288 with 1 Axes>"
      ]
     },
     "metadata": {
      "needs_background": "light"
     },
     "output_type": "display_data"
    }
   ],
   "source": [
    "plt.plot(range(len(adagrad_errors)), adagrad_errors)"
   ]
  },
  {
   "cell_type": "code",
   "execution_count": 99,
   "metadata": {},
   "outputs": [],
   "source": [
    "def RMSprop_step(X, y, w, train_ind, eta_init, EGsq, gamma=0.9):\n",
    "    \n",
    "    N = X.size[0]                  \n",
    "    x = Matrix(X.arr[train_ind])                 \n",
    "    grad = Linear.grad(x,y,w,train_ind,N)\n",
    "    etaarr = []\n",
    "    for i in range(len(EGsq)):\n",
    "        EGsq[i] = EGsq[i]*gamma + (grad.arr[i][0]**2)*(1-gamma)   \n",
    "        etaarr.append(eta_init/math.sqrt(EGsq[i]+1e-4))\n",
    "    eta = Matrix(etaarr)\n",
    "    eta = eta.T()\n",
    "\n",
    "    return Matrix.subtr(w,Matrix.multelem(grad,eta)), EGsq\n",
    "    \n",
    "    \n",
    "def RMSprop(X,y,w_init,eta_init=0.01,max_iter=1000):\n",
    "    \n",
    "    weight_dist = 10e777\n",
    "    w = w_init\n",
    "    errors = []\n",
    "\n",
    "    EGsq = []\n",
    "    for i in range(w.size[0]):\n",
    "        EGsq.append(0)\n",
    "    \n",
    "    for i in range(max_iter):\n",
    "        \n",
    "        random_ind = randint(0,X.size[0]-1)\n",
    "        (new_w,new_EGsq) = RMSprop_step(X, y, w, random_ind, eta_init, EGsq, gamma=0.9)\n",
    "\n",
    "        yyarr = []\n",
    "        for j in range(X.size[0]):\n",
    "            yyarr.append([Linear.linear_prediction(Matrix(X.arr[j]),new_w)])\n",
    "        error = MSE(y, Matrix(yyarr))\n",
    "        errors.append(error)\n",
    "\n",
    "        w = new_w\n",
    "        EGsq = new_EGsq\n",
    "    return w,errors  "
   ]
  },
  {
   "cell_type": "code",
   "execution_count": 100,
   "metadata": {},
   "outputs": [
    {
     "data": {
      "text/plain": [
       "[[0.7231163179373735],\n",
       " [-0.19486834201393466],\n",
       " [0.053686891970603154],\n",
       " [-0.49277776786167293]]"
      ]
     },
     "execution_count": 100,
     "metadata": {},
     "output_type": "execute_result"
    }
   ],
   "source": [
    "w_init = Matrix([[1],[1],[1],[1]])\n",
    "RMSprop_weights, RMSprop_errors = RMSprop(X, y, w_init)      \n",
    "\n",
    "RMSprop_weights.arr"
   ]
  },
  {
   "cell_type": "code",
   "execution_count": 101,
   "metadata": {},
   "outputs": [
    {
     "data": {
      "text/plain": [
       "[<matplotlib.lines.Line2D at 0xd511530>]"
      ]
     },
     "execution_count": 101,
     "metadata": {},
     "output_type": "execute_result"
    },
    {
     "data": {
      "image/png": "[encoded data removed]",
      "text/plain": [
       "<Figure size 432x288 with 1 Axes>"
      ]
     },
     "metadata": {
      "needs_background": "light"
     },
     "output_type": "display_data"
    }
   ],
   "source": [
    "plt.plot(range(len(RMSprop_errors)), RMSprop_errors)"
   ]
  },
  {
   "cell_type": "code",
   "execution_count": 102,
   "metadata": {},
   "outputs": [],
   "source": [
    "def Adam_step(X, y, w, train_ind, eta_init, m, v, beta1=0.9, beta2=0.9):\n",
    "    \n",
    "    N = X.size[0]                  \n",
    "    x = Matrix(X.arr[train_ind])                 \n",
    "    grad = Linear.grad(x,y,w,train_ind,N)\n",
    "    etaarr = []\n",
    "    for i in range(len(v)):\n",
    "        m[i] = m[i]*beta1 + grad.arr[i][0]*(1-beta1)   \n",
    "        v[i] = v[i]*beta2 + (grad.arr[i][0]**2)*(1-beta2)   \n",
    "        etaarr.append(eta_init/math.sqrt(v[i]+1e-4))\n",
    "    eta = Matrix(etaarr)\n",
    "    eta = eta.T()\n",
    "\n",
    "    return Matrix.subtr(w,Matrix.multelem(Matrix(m).T(),eta)),m, v\n",
    "    \n",
    "    \n",
    "def Adam(X,y,w_init,eta_init=0.01,max_iter=1000):\n",
    "    \n",
    "    weight_dist = 10e777\n",
    "    w = w_init\n",
    "    errors = []\n",
    "\n",
    "    m = []\n",
    "    v = []\n",
    "    for i in range(w.size[0]):\n",
    "        m.append(0)\n",
    "        v.append(0)\n",
    "    \n",
    "    for i in range(max_iter):\n",
    "        \n",
    "        random_ind = randint(0,X.size[0]-1)\n",
    "        (new_w,new_m,new_v) = Adam_step(X, y, w, random_ind, eta_init, m, v, beta1=0.9, beta2=0.9)\n",
    "\n",
    "        yyarr = []\n",
    "        for j in range(X.size[0]):\n",
    "            yyarr.append([Linear.linear_prediction(Matrix(X.arr[j]),new_w)])\n",
    "        error = MSE(y, Matrix(yyarr))\n",
    "        errors.append(error)\n",
    "\n",
    "        w = new_w\n",
    "        m = new_m\n",
    "        v = new_v\n",
    "    return w,errors  "
   ]
  },
  {
   "cell_type": "code",
   "execution_count": 103,
   "metadata": {},
   "outputs": [
    {
     "data": {
      "text/plain": [
       "[[0.714391800713411],\n",
       " [-0.29848295364119903],\n",
       " [0.09274708975554917],\n",
       " [-0.3627981413689477]]"
      ]
     },
     "execution_count": 103,
     "metadata": {},
     "output_type": "execute_result"
    }
   ],
   "source": [
    "w_init = Matrix([[1],[1],[1],[1]])\n",
    "Adam_weights, Adam_errors = Adam(X, y, w_init)      \n",
    "\n",
    "Adam_weights.arr"
   ]
  },
  {
   "cell_type": "code",
   "execution_count": 104,
   "metadata": {},
   "outputs": [
    {
     "data": {
      "text/plain": [
       "[<matplotlib.lines.Line2D at 0xd548550>]"
      ]
     },
     "execution_count": 104,
     "metadata": {},
     "output_type": "execute_result"
    },
    {
     "data": {
      "image/png": "[encoded data removed]",
      "text/plain": [
       "<Figure size 432x288 with 1 Axes>"
      ]
     },
     "metadata": {
      "needs_background": "light"
     },
     "output_type": "display_data"
    }
   ],
   "source": [
    "plt.plot(range(len(Adam_errors)), Adam_errors)"
   ]
  },
  {
   "cell_type": "code",
   "execution_count": 1,
   "metadata": {},
   "outputs": [],
   "source": [
    "def lasso_coordinate_descent_step(num_features, feature_matrix, output, weights, l1_penalty):\n",
    "    # compute prediction\n",
    "    prediction = predict_output(feature_matrix, weights)\n",
    "    # z_i= (feature_matrix*feature_matrix).sum()\n",
    "\n",
    "    for i in range(num_features + 1):\n",
    "        # compute ro[i] = SUM[ [feature_i]*(output - prediction + weight[i]*[feature_i]) ]\n",
    "        ro_i = (feature_matrix[:, i] * (output - prediction + weights[i] * feature_matrix[:, i])).sum()\n",
    "\n",
    "        print(\"RO %d: : %f\" % (i, ro_i))\n",
    "        if i == 0:  # intercept -- do not regularize\n",
    "            new_weight_i = ro_i\n",
    "        elif ro_i < -l1_penalty / 2.:\n",
    "            new_weight_i = (ro_i + (l1_penalty / 2))\n",
    "        elif ro_i > l1_penalty / 2.:\n",
    "            new_weight_i = (ro_i - (l1_penalty / 2))\n",
    "        else:\n",
    "            new_weight_i = 0.\n",
    "\n",
    "    return new_weight_i\n",
    "\n",
    "\n",
    "def lasso_cyclical_coordinate_descent(feature_matrix, output, initial_weights,\n",
    "                                      l1_penalty, tolerance):\n",
    "    condition = True\n",
    "    while condition:\n",
    "        max_change = 0\n",
    "        for i in range(len(initial_weights)):\n",
    "            # max_change=0\n",
    "            old_weight_i = initial_weights[i]\n",
    "            initial_weights[i] = lasso_coordinate_descent_step(i,\n",
    "                                                               feature_matrix, output,\n",
    "                                                               initial_weights, l1_penalty)\n",
    "            coordinate_change = abs(old_weight_i - initial_weights[i])\n",
    "            if coordinate_change > max_change:\n",
    "                max_change = coordinate_change\n",
    "                # print(max_change)\n",
    "        if max_change < tolerance:\n",
    "            # print(\"out: \", max_change)\n",
    "            condition = False\n",
    "    return initial_weights\n"
   ]
  },
  {
   "cell_type": "code",
   "execution_count": null,
   "metadata": {},
   "outputs": [],
   "source": []
  }
 ],
 "metadata": {
  "kernelspec": {
   "display_name": "Python 3",
   "language": "python",
   "name": "python3"
  },
  "language_info": {
   "codemirror_mode": {
    "name": "ipython",
    "version": 3
   },
   "file_extension": ".py",
   "mimetype": "text/x-python",
   "name": "python",
   "nbconvert_exporter": "python",
   "pygments_lexer": "ipython3",
   "version": "3.7.4"
  }
 },
 "nbformat": 4,
 "nbformat_minor": 4
}
